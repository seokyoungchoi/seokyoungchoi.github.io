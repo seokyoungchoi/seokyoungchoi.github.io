{
  "nbformat": 4,
  "nbformat_minor": 0,
  "metadata": {
    "kernelspec": {
      "display_name": "Python 3",
      "language": "python",
      "name": "python3"
    },
    "language_info": {
      "codemirror_mode": {
        "name": "ipython",
        "version": 3
      },
      "file_extension": ".py",
      "mimetype": "text/x-python",
      "name": "python",
      "nbconvert_exporter": "python",
      "pygments_lexer": "ipython3",
      "version": "3.7.4"
    },
    "colab": {
      "name": "HW4_1",
      "provenance": [],
      "include_colab_link": true
    }
  },
  "cells": [
    {
      "cell_type": "markdown",
      "metadata": {
        "id": "view-in-github",
        "colab_type": "text"
      },
      "source": [
        "<a href=\"https://colab.research.google.com/github/seokyoungchoi/seokyoungchoi.github.io/blob/master/HW4_1.ipynb\" target=\"_parent\"><img src=\"https://colab.research.google.com/assets/colab-badge.svg\" alt=\"Open In Colab\"/></a>"
      ]
    },
    {
      "cell_type": "markdown",
      "metadata": {
        "id": "1DcHz9OysNdo",
        "colab_type": "text"
      },
      "source": [
        "# Loading MNIST training data\n"
      ]
    },
    {
      "cell_type": "code",
      "metadata": {
        "id": "KCdwTKVEsNdp",
        "colab_type": "code",
        "outputId": "68c757a5-d9f8-4f03-dd51-4370d0b80e41",
        "colab": {
          "base_uri": "https://localhost:8080/",
          "height": 606
        }
      },
      "source": [
        "# Import tensorflow\n",
        "import tensorflow as tf\n",
        "\n",
        "# import MNIST data\n",
        "from tensorflow.examples.tutorials.mnist import input_data\n",
        "mnist = input_data.read_data_sets(\"MNIST_data/\", one_hot=True)"
      ],
      "execution_count": 0,
      "outputs": [
        {
          "output_type": "display_data",
          "data": {
            "text/html": [
              "<p style=\"color: red;\">\n",
              "The default version of TensorFlow in Colab will soon switch to TensorFlow 2.x.<br>\n",
              "We recommend you <a href=\"https://www.tensorflow.org/guide/migrate\" target=\"_blank\">upgrade</a> now \n",
              "or ensure your notebook will continue to use TensorFlow 1.x via the <code>%tensorflow_version 1.x</code> magic:\n",
              "<a href=\"https://colab.research.google.com/notebooks/tensorflow_version.ipynb\" target=\"_blank\">more info</a>.</p>\n"
            ],
            "text/plain": [
              "<IPython.core.display.HTML object>"
            ]
          },
          "metadata": {
            "tags": []
          }
        },
        {
          "output_type": "stream",
          "text": [
            "WARNING:tensorflow:From <ipython-input-1-9dfa0d176f06>:5: read_data_sets (from tensorflow.contrib.learn.python.learn.datasets.mnist) is deprecated and will be removed in a future version.\n",
            "Instructions for updating:\n",
            "Please use alternatives such as official/mnist/dataset.py from tensorflow/models.\n",
            "WARNING:tensorflow:From /usr/local/lib/python3.6/dist-packages/tensorflow_core/contrib/learn/python/learn/datasets/mnist.py:260: maybe_download (from tensorflow.contrib.learn.python.learn.datasets.base) is deprecated and will be removed in a future version.\n",
            "Instructions for updating:\n",
            "Please write your own downloading logic.\n",
            "WARNING:tensorflow:From /usr/local/lib/python3.6/dist-packages/tensorflow_core/contrib/learn/python/learn/datasets/base.py:252: _internal_retry.<locals>.wrap.<locals>.wrapped_fn (from tensorflow.contrib.learn.python.learn.datasets.base) is deprecated and will be removed in a future version.\n",
            "Instructions for updating:\n",
            "Please use urllib or similar directly.\n",
            "Successfully downloaded train-images-idx3-ubyte.gz 9912422 bytes.\n",
            "WARNING:tensorflow:From /usr/local/lib/python3.6/dist-packages/tensorflow_core/contrib/learn/python/learn/datasets/mnist.py:262: extract_images (from tensorflow.contrib.learn.python.learn.datasets.mnist) is deprecated and will be removed in a future version.\n",
            "Instructions for updating:\n",
            "Please use tf.data to implement this functionality.\n",
            "Extracting MNIST_data/train-images-idx3-ubyte.gz\n",
            "Successfully downloaded train-labels-idx1-ubyte.gz 28881 bytes.\n",
            "WARNING:tensorflow:From /usr/local/lib/python3.6/dist-packages/tensorflow_core/contrib/learn/python/learn/datasets/mnist.py:267: extract_labels (from tensorflow.contrib.learn.python.learn.datasets.mnist) is deprecated and will be removed in a future version.\n",
            "Instructions for updating:\n",
            "Please use tf.data to implement this functionality.\n",
            "Extracting MNIST_data/train-labels-idx1-ubyte.gz\n",
            "WARNING:tensorflow:From /usr/local/lib/python3.6/dist-packages/tensorflow_core/contrib/learn/python/learn/datasets/mnist.py:110: dense_to_one_hot (from tensorflow.contrib.learn.python.learn.datasets.mnist) is deprecated and will be removed in a future version.\n",
            "Instructions for updating:\n",
            "Please use tf.one_hot on tensors.\n",
            "Successfully downloaded t10k-images-idx3-ubyte.gz 1648877 bytes.\n",
            "Extracting MNIST_data/t10k-images-idx3-ubyte.gz\n",
            "Successfully downloaded t10k-labels-idx1-ubyte.gz 4542 bytes.\n",
            "Extracting MNIST_data/t10k-labels-idx1-ubyte.gz\n",
            "WARNING:tensorflow:From /usr/local/lib/python3.6/dist-packages/tensorflow_core/contrib/learn/python/learn/datasets/mnist.py:290: DataSet.__init__ (from tensorflow.contrib.learn.python.learn.datasets.mnist) is deprecated and will be removed in a future version.\n",
            "Instructions for updating:\n",
            "Please use alternatives such as official/mnist/dataset.py from tensorflow/models.\n"
          ],
          "name": "stdout"
        }
      ]
    },
    {
      "cell_type": "markdown",
      "metadata": {
        "id": "YtY-aoU6sNdu",
        "colab_type": "text"
      },
      "source": [
        "# Build a Multilayer Convolutional Network\n",
        "\n"
      ]
    },
    {
      "cell_type": "code",
      "metadata": {
        "id": "3Pwzx8LLsNdv",
        "colab_type": "code",
        "colab": {}
      },
      "source": [
        "x = tf.placeholder(tf.float32, [None, 784])\n",
        "W = tf.Variable(tf.zeros([784, 10]))\n",
        "b = tf.Variable(tf.zeros([10]))\n",
        "y_ = tf.placeholder(tf.float32, [None, 10])"
      ],
      "execution_count": 0,
      "outputs": []
    },
    {
      "cell_type": "markdown",
      "metadata": {
        "id": "JadcxMsLsNdw",
        "colab_type": "text"
      },
      "source": [
        "## Weight & Biases Initialization\n",
        "\n",
        "To create this model, we're going to need to create a lot of weights and biases. One should generally initialize weights with a small amount of noise for symmetry breaking, and to prevent 0 gradients. Since we're using ReLU neurons, it is also good practice to initialize them with a slightly positive initial bias to avoid \"dead neurons.\" Instead of doing this repeatedly while we build the model, let's create two handy functions to do it for us."
      ]
    },
    {
      "cell_type": "code",
      "metadata": {
        "id": "KpjizxoIsNdx",
        "colab_type": "code",
        "colab": {}
      },
      "source": [
        "def weight_variable(shape):\n",
        "    initial = tf.truncated_normal(shape, stddev=0.1)\n",
        "    return tf.Variable(initial)\n",
        "\n",
        "def bias_variable(shape):\n",
        "    initial = tf.constant(0.1, shape=shape)\n",
        "    return tf.Variable(initial)"
      ],
      "execution_count": 0,
      "outputs": []
    },
    {
      "cell_type": "code",
      "metadata": {
        "id": "BjfTx7wWsNd0",
        "colab_type": "code",
        "colab": {}
      },
      "source": [
        "def conv2d(x, W):\n",
        "    return tf.nn.conv2d(x, W, strides=[1, 1, 1, 1], padding='VALID') # We do not use zero paddings, so change padding option to 'VALID'\n",
        "\n",
        "def max_pool_2x2(x):\n",
        "    return tf.nn.max_pool(x, ksize=[1, 2, 2, 1],\n",
        "                          strides=[1, 2, 2, 1], padding='VALID') # We do not use zero paddings, so change padding option to 'VALID'"
      ],
      "execution_count": 0,
      "outputs": []
    },
    {
      "cell_type": "markdown",
      "metadata": {
        "id": "qjEBXWrQsNd2",
        "colab_type": "text"
      },
      "source": [
        "## First Convolutional Layer\n",
        "\n",
        "We can now implement our first layer. It will consist of convolution, followed by max pooling. The convolutional will compute 32 features for each 7x7 patch. Its weight tensor will have a shape of [7, 7, 1, 32]. The first two dimensions are the patch size, the next is the number of input channels, and the last is the number of output channels. We will also have a bias vector with a component for each output channel.\n"
      ]
    },
    {
      "cell_type": "code",
      "metadata": {
        "id": "PnmniW6usNd2",
        "colab_type": "code",
        "colab": {}
      },
      "source": [
        "W_conv1 = weight_variable([7, 7, 1, 32])\n",
        "b_conv1 = bias_variable([32])"
      ],
      "execution_count": 0,
      "outputs": []
    },
    {
      "cell_type": "markdown",
      "metadata": {
        "id": "AzZZSP0OsNd5",
        "colab_type": "text"
      },
      "source": [
        "To apply the layer, we first reshape x to a 4d tensor, with the second and third dimensions corresponding to image width and height, and the final dimension corresponding to the number of color channels."
      ]
    },
    {
      "cell_type": "code",
      "metadata": {
        "id": "pmyZD_5GsNd5",
        "colab_type": "code",
        "outputId": "b687c0b7-bbcc-4929-cb33-54600b0d522a",
        "colab": {
          "base_uri": "https://localhost:8080/",
          "height": 35
        }
      },
      "source": [
        "x_image = tf.reshape(x, [-1,28,28,1]) # 28*28 pixels, black and white(fourth dimension=1)\n",
        "print(x_image)"
      ],
      "execution_count": 0,
      "outputs": [
        {
          "output_type": "stream",
          "text": [
            "Tensor(\"Reshape_1:0\", shape=(?, 28, 28, 1), dtype=float32)\n"
          ],
          "name": "stdout"
        }
      ]
    },
    {
      "cell_type": "markdown",
      "metadata": {
        "id": "DH5HHxmvsNd7",
        "colab_type": "text"
      },
      "source": [
        "We then convolve x_image with the weight tensor, add the bias, apply the ReLU function, and finally max pool."
      ]
    },
    {
      "cell_type": "code",
      "metadata": {
        "id": "3GfhiBMssNd9",
        "colab_type": "code",
        "colab": {}
      },
      "source": [
        "h_conv1 = tf.nn.relu(conv2d(x_image, W_conv1) + b_conv1)\n",
        "h_pool1 = max_pool_2x2(h_conv1)"
      ],
      "execution_count": 0,
      "outputs": []
    },
    {
      "cell_type": "markdown",
      "metadata": {
        "id": "cC8C0K-YsNeA",
        "colab_type": "text"
      },
      "source": [
        "## Second Convolutional Layer\n",
        "\n",
        "In order to build a deep network, we stack several layers of this type. The second layer will have 64 features for each 4x4 patch."
      ]
    },
    {
      "cell_type": "code",
      "metadata": {
        "id": "DOK4T7dnsNeB",
        "colab_type": "code",
        "colab": {}
      },
      "source": [
        "W_conv2 = weight_variable([4, 4, 32, 64])\n",
        "b_conv2 = bias_variable([64])\n",
        "\n",
        "h_conv2 = tf.nn.relu(conv2d(h_pool1, W_conv2) + b_conv2)\n",
        "h_pool2 = max_pool_2x2(h_conv2)"
      ],
      "execution_count": 0,
      "outputs": []
    },
    {
      "cell_type": "markdown",
      "metadata": {
        "id": "ixWCvJIDsNeD",
        "colab_type": "text"
      },
      "source": [
        "## Densely Connected Layer\n",
        "\n",
        "Now that the image size has been reduced to 4x4(I explained how the output dimension is calculated in the word file), we add a fully-connected layer with 1024 neurons to allow processing on the entire image. We reshape the tensor from the pooling layer into a batch of vectors, multiply by a weight matrix, add a bias, and apply a ReLU."
      ]
    },
    {
      "cell_type": "code",
      "metadata": {
        "id": "lnX_mBMisNeD",
        "colab_type": "code",
        "colab": {}
      },
      "source": [
        "W_fc1 = weight_variable([4 * 4 * 64, 1024])  \n",
        "b_fc1 = bias_variable([1024])\n",
        "\n",
        "h_pool2_flat = tf.reshape(h_pool2, [-1, 4*4*64])\n",
        "h_fc1 = tf.nn.relu(tf.matmul(h_pool2_flat, W_fc1) + b_fc1)"
      ],
      "execution_count": 0,
      "outputs": []
    },
    {
      "cell_type": "markdown",
      "metadata": {
        "id": "nwC9cpUlsNeG",
        "colab_type": "text"
      },
      "source": [
        "### Dropout\n",
        "\n",
        "To reduce overfitting, we will apply dropout before the readout layer. We create a placeholder for the probability that a neuron's output is kept during dropout. This allows us to turn dropout on during training, and turn it off during testing. TensorFlow's tf.nn.dropout op automatically handles scaling neuron outputs in addition to masking them, so dropout just works without any additional scaling."
      ]
    },
    {
      "cell_type": "code",
      "metadata": {
        "id": "tB0r3QvLsNeH",
        "colab_type": "code",
        "outputId": "ec359ac8-1851-46a5-a06c-82693e9e3789",
        "colab": {
          "base_uri": "https://localhost:8080/",
          "height": 71
        }
      },
      "source": [
        "keep_prob = tf.placeholder(tf.float32)\n",
        "h_fc1_drop = tf.nn.dropout(h_fc1, keep_prob)"
      ],
      "execution_count": 0,
      "outputs": [
        {
          "output_type": "stream",
          "text": [
            "WARNING:tensorflow:From <ipython-input-15-35c3bf3a9559>:2: calling dropout (from tensorflow.python.ops.nn_ops) with keep_prob is deprecated and will be removed in a future version.\n",
            "Instructions for updating:\n",
            "Please use `rate` instead of `keep_prob`. Rate should be set to `rate = 1 - keep_prob`.\n"
          ],
          "name": "stdout"
        }
      ]
    },
    {
      "cell_type": "markdown",
      "metadata": {
        "id": "MCfBkgNDsNeJ",
        "colab_type": "text"
      },
      "source": [
        "## Readout Layer\n",
        "\n",
        "Finally, we add a softmax layer, just like for the one layer softmax regression."
      ]
    },
    {
      "cell_type": "code",
      "metadata": {
        "id": "_AAdwBKtsNeK",
        "colab_type": "code",
        "colab": {}
      },
      "source": [
        "W_fc2 = weight_variable([1024, 10])\n",
        "b_fc2 = bias_variable([10])\n",
        "\n",
        "y_conv=tf.nn.softmax(tf.matmul(h_fc1_drop, W_fc2) + b_fc2)"
      ],
      "execution_count": 0,
      "outputs": []
    },
    {
      "cell_type": "markdown",
      "metadata": {
        "id": "PtAlMc9TsNeM",
        "colab_type": "text"
      },
      "source": [
        "## Train and Evaluate the Model\n",
        "\n",
        "How well does this model do? To train and evaluate it we will use code that is nearly identical to that for the simple one layer SoftMax network above. The differences are that: we will replace the steepest gradient descent optimizer with the more sophisticated ADAM optimizer; we will include the additional parameter keep_prob in feed_dict to control the dropout rate; and we will add logging to every 100th iteration in the training process.\n",
        "\n"
      ]
    },
    {
      "cell_type": "code",
      "metadata": {
        "id": "pwNR0ixQsNeN",
        "colab_type": "code",
        "outputId": "cd59e3c8-3142-47d9-d21d-605e7283320d",
        "colab": {
          "base_uri": "https://localhost:8080/",
          "height": 1000
        }
      },
      "source": [
        "# initialize variables and session\n",
        "init = tf.global_variables_initializer()\n",
        "sess = tf.Session()\n",
        "sess.run(init)\n",
        "\n",
        "cross_entropy = tf.reduce_mean(-tf.reduce_sum(y_ * tf.log(y_conv), reduction_indices=[1]))\n",
        "\n",
        "train_step = tf.train.AdamOptimizer(1e-4).minimize(cross_entropy)\n",
        "correct_prediction = tf.equal(tf.argmax(y_conv,1), tf.argmax(y_,1))\n",
        "accuracy = tf.reduce_mean(tf.cast(correct_prediction, tf.float32))\n",
        "sess.run(tf.global_variables_initializer())\n",
        "\n",
        "# Run mini-batch training on 50 elements 20000 times.\n",
        "for i in range(20000):\n",
        "    batch = mnist.train.next_batch(50)\n",
        "    if i%100 == 0:\n",
        "        # train_accuracy = accuracy.eval(feed_dict={\n",
        "        #     x:batch[0], y_: batch[1], keep_prob: 1.0})\n",
        "        train_accuracy = sess.run(accuracy, feed_dict={\n",
        "             x:batch[0], y_: batch[1], keep_prob: 1.0})\n",
        "        print(\"step %d, training accuracy %g\" % (i, train_accuracy)) \n",
        "    # train_step.run(feed_dict={x: batch[0], y_: batch[1], keep_prob: 0.5})\n",
        "    sess.run(train_step, feed_dict={x: batch[0], y_: batch[1], keep_prob: 0.5})\n",
        "\n",
        "print(\"test accuracy %g\" % sess.run(accuracy, feed_dict={\n",
        "    x: mnist.test.images, y_: mnist.test.labels, keep_prob: 1.0}))"
      ],
      "execution_count": 0,
      "outputs": [
        {
          "output_type": "stream",
          "text": [
            "step 0, training accuracy 0.08\n",
            "step 100, training accuracy 0.78\n",
            "step 200, training accuracy 0.88\n",
            "step 300, training accuracy 0.92\n",
            "step 400, training accuracy 0.9\n",
            "step 500, training accuracy 0.92\n",
            "step 600, training accuracy 0.94\n",
            "step 700, training accuracy 0.98\n",
            "step 800, training accuracy 0.9\n",
            "step 900, training accuracy 0.98\n",
            "step 1000, training accuracy 0.96\n",
            "step 1100, training accuracy 0.96\n",
            "step 1200, training accuracy 0.94\n",
            "step 1300, training accuracy 0.94\n",
            "step 1400, training accuracy 0.96\n",
            "step 1500, training accuracy 0.92\n",
            "step 1600, training accuracy 0.94\n",
            "step 1700, training accuracy 0.98\n",
            "step 1800, training accuracy 0.96\n",
            "step 1900, training accuracy 0.94\n",
            "step 2000, training accuracy 1\n",
            "step 2100, training accuracy 0.96\n",
            "step 2200, training accuracy 0.98\n",
            "step 2300, training accuracy 0.94\n",
            "step 2400, training accuracy 0.98\n",
            "step 2500, training accuracy 1\n",
            "step 2600, training accuracy 0.98\n",
            "step 2700, training accuracy 0.98\n",
            "step 2800, training accuracy 0.98\n",
            "step 2900, training accuracy 1\n",
            "step 3000, training accuracy 0.98\n",
            "step 3100, training accuracy 1\n",
            "step 3200, training accuracy 0.96\n",
            "step 3300, training accuracy 0.98\n",
            "step 3400, training accuracy 1\n",
            "step 3500, training accuracy 1\n",
            "step 3600, training accuracy 0.98\n",
            "step 3700, training accuracy 0.98\n",
            "step 3800, training accuracy 0.98\n",
            "step 3900, training accuracy 1\n",
            "step 4000, training accuracy 1\n",
            "step 4100, training accuracy 1\n",
            "step 4200, training accuracy 0.96\n",
            "step 4300, training accuracy 0.98\n",
            "step 4400, training accuracy 0.96\n",
            "step 4500, training accuracy 0.96\n",
            "step 4600, training accuracy 1\n",
            "step 4700, training accuracy 1\n",
            "step 4800, training accuracy 0.98\n",
            "step 4900, training accuracy 1\n",
            "step 5000, training accuracy 0.98\n",
            "step 5100, training accuracy 1\n",
            "step 5200, training accuracy 0.98\n",
            "step 5300, training accuracy 0.98\n",
            "step 5400, training accuracy 0.98\n",
            "step 5500, training accuracy 0.98\n",
            "step 5600, training accuracy 1\n",
            "step 5700, training accuracy 1\n",
            "step 5800, training accuracy 0.98\n",
            "step 5900, training accuracy 1\n",
            "step 6000, training accuracy 0.96\n",
            "step 6100, training accuracy 0.98\n",
            "step 6200, training accuracy 1\n",
            "step 6300, training accuracy 1\n",
            "step 6400, training accuracy 1\n",
            "step 6500, training accuracy 0.96\n",
            "step 6600, training accuracy 0.98\n",
            "step 6700, training accuracy 1\n",
            "step 6800, training accuracy 1\n",
            "step 6900, training accuracy 0.96\n",
            "step 7000, training accuracy 1\n",
            "step 7100, training accuracy 1\n",
            "step 7200, training accuracy 1\n",
            "step 7300, training accuracy 1\n",
            "step 7400, training accuracy 1\n",
            "step 7500, training accuracy 1\n",
            "step 7600, training accuracy 0.98\n",
            "step 7700, training accuracy 1\n",
            "step 7800, training accuracy 0.98\n",
            "step 7900, training accuracy 0.98\n",
            "step 8000, training accuracy 0.98\n",
            "step 8100, training accuracy 0.98\n",
            "step 8200, training accuracy 0.98\n",
            "step 8300, training accuracy 1\n",
            "step 8400, training accuracy 1\n",
            "step 8500, training accuracy 1\n",
            "step 8600, training accuracy 1\n",
            "step 8700, training accuracy 0.98\n",
            "step 8800, training accuracy 1\n",
            "step 8900, training accuracy 0.98\n",
            "step 9000, training accuracy 1\n",
            "step 9100, training accuracy 1\n",
            "step 9200, training accuracy 1\n",
            "step 9300, training accuracy 1\n",
            "step 9400, training accuracy 1\n",
            "step 9500, training accuracy 1\n",
            "step 9600, training accuracy 1\n",
            "step 9700, training accuracy 1\n",
            "step 9800, training accuracy 1\n",
            "step 9900, training accuracy 0.98\n",
            "step 10000, training accuracy 1\n",
            "step 10100, training accuracy 0.98\n",
            "step 10200, training accuracy 1\n",
            "step 10300, training accuracy 1\n",
            "step 10400, training accuracy 1\n",
            "step 10500, training accuracy 1\n",
            "step 10600, training accuracy 1\n",
            "step 10700, training accuracy 1\n",
            "step 10800, training accuracy 1\n",
            "step 10900, training accuracy 1\n",
            "step 11000, training accuracy 1\n",
            "step 11100, training accuracy 0.98\n",
            "step 11200, training accuracy 1\n",
            "step 11300, training accuracy 1\n",
            "step 11400, training accuracy 1\n",
            "step 11500, training accuracy 1\n",
            "step 11600, training accuracy 1\n",
            "step 11700, training accuracy 1\n",
            "step 11800, training accuracy 1\n",
            "step 11900, training accuracy 1\n",
            "step 12000, training accuracy 1\n",
            "step 12100, training accuracy 1\n",
            "step 12200, training accuracy 1\n",
            "step 12300, training accuracy 1\n",
            "step 12400, training accuracy 1\n",
            "step 12500, training accuracy 1\n",
            "step 12600, training accuracy 0.98\n",
            "step 12700, training accuracy 1\n",
            "step 12800, training accuracy 1\n",
            "step 12900, training accuracy 0.98\n",
            "step 13000, training accuracy 0.98\n",
            "step 13100, training accuracy 1\n",
            "step 13200, training accuracy 1\n",
            "step 13300, training accuracy 1\n",
            "step 13400, training accuracy 0.98\n",
            "step 13500, training accuracy 1\n",
            "step 13600, training accuracy 1\n",
            "step 13700, training accuracy 0.98\n",
            "step 13800, training accuracy 1\n",
            "step 13900, training accuracy 1\n",
            "step 14000, training accuracy 0.98\n",
            "step 14100, training accuracy 1\n",
            "step 14200, training accuracy 1\n",
            "step 14300, training accuracy 1\n",
            "step 14400, training accuracy 1\n",
            "step 14500, training accuracy 1\n",
            "step 14600, training accuracy 1\n",
            "step 14700, training accuracy 1\n",
            "step 14800, training accuracy 1\n",
            "step 14900, training accuracy 1\n",
            "step 15000, training accuracy 1\n",
            "step 15100, training accuracy 1\n",
            "step 15200, training accuracy 1\n",
            "step 15300, training accuracy 1\n",
            "step 15400, training accuracy 1\n",
            "step 15500, training accuracy 1\n",
            "step 15600, training accuracy 1\n",
            "step 15700, training accuracy 1\n",
            "step 15800, training accuracy 1\n",
            "step 15900, training accuracy 1\n",
            "step 16000, training accuracy 1\n",
            "step 16100, training accuracy 1\n",
            "step 16200, training accuracy 1\n",
            "step 16300, training accuracy 1\n",
            "step 16400, training accuracy 0.98\n",
            "step 16500, training accuracy 1\n",
            "step 16600, training accuracy 1\n",
            "step 16700, training accuracy 1\n",
            "step 16800, training accuracy 1\n",
            "step 16900, training accuracy 1\n",
            "step 17000, training accuracy 0.98\n",
            "step 17100, training accuracy 0.96\n",
            "step 17200, training accuracy 1\n",
            "step 17300, training accuracy 1\n",
            "step 17400, training accuracy 0.98\n",
            "step 17500, training accuracy 1\n",
            "step 17600, training accuracy 1\n",
            "step 17700, training accuracy 1\n",
            "step 17800, training accuracy 1\n",
            "step 17900, training accuracy 1\n",
            "step 18000, training accuracy 1\n",
            "step 18100, training accuracy 1\n",
            "step 18200, training accuracy 1\n",
            "step 18300, training accuracy 1\n",
            "step 18400, training accuracy 1\n",
            "step 18500, training accuracy 1\n",
            "step 18600, training accuracy 1\n",
            "step 18700, training accuracy 1\n",
            "step 18800, training accuracy 1\n",
            "step 18900, training accuracy 1\n",
            "step 19000, training accuracy 1\n",
            "step 19100, training accuracy 1\n",
            "step 19200, training accuracy 1\n",
            "step 19300, training accuracy 1\n",
            "step 19400, training accuracy 1\n",
            "step 19500, training accuracy 1\n",
            "step 19600, training accuracy 1\n",
            "step 19700, training accuracy 1\n",
            "step 19800, training accuracy 1\n",
            "step 19900, training accuracy 1\n",
            "test accuracy 0.9918\n"
          ],
          "name": "stdout"
        }
      ]
    },
    {
      "cell_type": "markdown",
      "metadata": {
        "id": "260t8DexsNeQ",
        "colab_type": "text"
      },
      "source": [
        "The final test set accuracy after running this code should be approximately 99.2%.\n"
      ]
    }
  ]
}